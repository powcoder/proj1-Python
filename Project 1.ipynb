{
 "cells": [
  {
   "cell_type": "markdown",
   "metadata": {},
   "source": [
    "# Project 1, due Oct the 7th, 11:59pm\n",
    "\n",
    "Rules\n",
    "\n",
    "1) submit your .ipynb file by email, titled \"CMP SC ECE: 4001-7001: Project 1: XXX\", where XXX is your name.\n",
    "\n",
    "2) your file should be named Project1_XXX.ipynb, where XXX is your name.\n",
    "\n",
    "3) clear all cells before submitting.\n",
    "\n",
    "You can use \n",
    "\n",
    "1) our class notes (PPTs)\n",
    "\n",
    "2) your book\n",
    "\n",
    "3) any Jupyter pages so far\n",
    "\n",
    "4) webpages on the internet (e.g., Wikipedia)\n",
    "\n",
    "You CANNOT \n",
    "\n",
    "1) work with anyone else (e.g., someone in the class, on the intenet, robot, etc.)\n",
    "\n",
    "NO late submissions will be accepted.\n",
    "\n",
    "Do the following tasks with respect to the Indian Pines data set (and its ground truth)."
   ]
  },
  {
   "cell_type": "markdown",
   "metadata": {},
   "source": [
    "OK, so lets load the Indian Pines"
   ]
  },
  {
   "cell_type": "code",
   "execution_count": 1,
   "metadata": {},
   "outputs": [
    {
     "name": "stdout",
     "output_type": "stream",
     "text": [
      "(145, 145, 220)\n"
     ]
    }
   ],
   "source": [
    "import scipy.io\n",
    "from PIL import Image\n",
    "import numpy as np\n",
    "\n",
    "mat = scipy.io.loadmat('/dsa/git/LecWeek3/Indian_pines.mat')\n",
    "data = mat['indian_pines']\n",
    "Xdim, Ydim, Bands = data.shape\n",
    "print( data.shape )"
   ]
  },
  {
   "cell_type": "markdown",
   "metadata": {},
   "source": [
    "Next, load the Indian Pines ground truth"
   ]
  },
  {
   "cell_type": "code",
   "execution_count": 2,
   "metadata": {},
   "outputs": [
    {
     "name": "stdout",
     "output_type": "stream",
     "text": [
      "16\n"
     ]
    }
   ],
   "source": [
    "mat2 = scipy.io.loadmat('/dsa/git/LecWeek3/Indian_pines_gt.mat')\n",
    "data2 = mat2['indian_pines_gt']\n",
    "\n",
    "NoLabels = np.amax(data2)\n",
    "print( NoLabels )"
   ]
  },
  {
   "cell_type": "markdown",
   "metadata": {},
   "source": [
    "Here is some simply Python code to help you find which pixels are a certain class"
   ]
  },
  {
   "cell_type": "code",
   "execution_count": 3,
   "metadata": {},
   "outputs": [
    {
     "name": "stdout",
     "output_type": "stream",
     "text": [
      "An example index is: 2 28\n",
      "There are 593 pixels in this class\n",
      "Soybean-clean\n"
     ]
    },
    {
     "data": {
      "image/png": "[encoded data removed]",
      "text/plain": [
       "<PIL.Image.Image image mode=L size=250x250 at 0x7F8F01512710>"
      ]
     },
     "metadata": {},
     "output_type": "display_data"
    }
   ],
   "source": [
    "# labels\n",
    "classlabels = [ \"No class\", \"Alfalfa\", \"Corn-notill\", \"Corn-mintill\", \"Corn\", \"Grass-pasture\", \"Grass-trees\", \"Grass-pasture-mowed\", \"Hay-windrowed\", \"Oats\", \"Soybean-notill\", \"Soybean-mintill\", \"Soybean-clean\", \"Wheat\", \"Woods\", \"Buildings-grass-trees-dives\", \"Stone-steel-towers\" ]\n",
    "\n",
    "# which class?\n",
    "which_class = 12\n",
    "\n",
    "# what locations?\n",
    "#\n",
    "# as an image\n",
    "WhatLocsImg = np.where( data2 == which_class , 1, 0 ) # so, 1 is our class, 0 is not (or white and black)\n",
    "# what specific indices\n",
    "WhatLocs = np.where( data2 == which_class )\n",
    "# get in 2D index form\n",
    "i1 = WhatLocs[0]\n",
    "i2 = WhatLocs[1]\n",
    "print( \"An example index is: \" + str(i1[0]) + \" \" + str(i2[0]) )\n",
    "print( \"There are \" + str(i1.size) + \" pixels in this class\" )\n",
    "\n",
    "# show the image\n",
    "print( classlabels[which_class] )\n",
    "result = np.uint8(WhatLocsImg*255)\n",
    "display(Image.fromarray(result).resize((250,250),Image.NEAREST))"
   ]
  },
  {
   "cell_type": "markdown",
   "metadata": {},
   "source": [
    "Few last comments.\n",
    "\n",
    "The indian pines data set has 220 bands. (what I gave you!)\n",
    "\n",
    "Wavelengths span 0.4–2.5 $\\mu$m.\n",
    "\n",
    "Each pixel is approx 20m (spatial)\n",
    "\n",
    "Water absorption bands are 104–108, 150–163, and 220"
   ]
  },
  {
   "cell_type": "markdown",
   "metadata": {},
   "source": [
    "Now, on to the stuff that you need to do!!!"
   ]
  },
  {
   "cell_type": "markdown",
   "metadata": {},
   "source": [
    "# Task 1 (everyone)\n",
    "\n",
    "1) Prompt the user for a class (one of 16) and compute (in Python) its mean and covariance matrix [make this its own cell]\n",
    "\n",
    "2) Plot (via plt.plot(...)) the mean signature. Label the x-axis w.r.t. waveform. [make this its own cell]\n",
    "\n",
    "3) Plot (as an image) the covariance matrix of the user selected class. [make this its own cell]\n",
    "\n",
    "note: I recommend you make cells, but make 1), 2), and 3) functions."
   ]
  },
  {
   "cell_type": "code",
   "execution_count": null,
   "metadata": {},
   "outputs": [],
   "source": [
    "### Prompt the user for which class to work with\n",
    "which_class = input(\"What class? {1, 2, ..., 16}: \")\n",
    "print( \"Class selected: \" + str(which_class) )\n",
    "\n",
    "# now, on to your code..."
   ]
  },
  {
   "cell_type": "markdown",
   "metadata": {},
   "source": [
    "# Task 2 (everyone)\n",
    "\n",
    "Run ACE, where\n",
    "\n",
    "$\\text{ACE}(x_{(i,j)};(s,\\mu,\\Sigma)) = \\frac{ \\left[(s-\\mu)^T \\Sigma^{-1} (x_{(i,j)}-\\mu)\\right] \\left[(s-\\mu)^T \\Sigma^{-1} (x_{(i,j)}-\\mu)\\right] }{\\left[(s-\\mu)^T \\Sigma^{-1} (s-\\mu)\\right] \\left[(x_{(i,j)}-\\mu)^T \\Sigma^{-1} (x_{(i,j)}-\\mu)\\right]}$\n",
    "\n",
    "where\n",
    "\n",
    "1) $x_{(i,j)}$ is the signal at the pixel under investigation\n",
    "\n",
    "2) $s$ is the signal we are trying to match\n",
    "\n",
    "3) $(\\mu,\\Sigma)$ are statistics we compute \"some how\" (see below)\n",
    "\n",
    "In Task 2, I want you to:\n",
    "\n",
    "1) make $s$ the mean of the class we selected in Task 1\n",
    "\n",
    "2) make $(\\mu,\\Sigma)$ the global (the entire image) mean and covariance\n",
    "\n",
    "note: show it \"raw\" and scaled to [0, largest ACE value observed in the image], prompt the user for which to do"
   ]
  },
  {
   "cell_type": "code",
   "execution_count": null,
   "metadata": {},
   "outputs": [],
   "source": []
  },
  {
   "cell_type": "markdown",
   "metadata": {},
   "source": [
    "# Task 3 (everyone)\n",
    "\n",
    "Run ACE, where\n",
    "\n",
    "$\\text{ACE}(x_{(i,j)};(s,\\mu,\\Sigma)) = \\frac{ \\left[(s-\\mu)^T \\Sigma^{-1} (x_{(i,j)}-\\mu)\\right] \\left[(s-\\mu)^T \\Sigma^{-1} (x_{(i,j)}-\\mu)\\right] }{\\left[(s-\\mu)^T \\Sigma^{-1} (s-\\mu)\\right] \\left[(x_{(i,j)}-\\mu)^T \\Sigma^{-1} (x_{(i,j)}-\\mu)\\right]}$\n",
    "\n",
    "where\n",
    "\n",
    "1) $x_{(i,j)}$ is the signal at the pixel under investigation\n",
    "\n",
    "2) $s$ is the signal we are trying to match\n",
    "\n",
    "3) $(\\mu,\\Sigma)$ are statistics we compute \"some how\" (see below)\n",
    "\n",
    "In Task 3, I want you to:\n",
    "\n",
    "1) make $s$ the mean of the class we selected in Task 1\n",
    "\n",
    "2) make $(\\mu,\\Sigma)$ the local (with respect to a user defined local window (prompt the user for the size of the local window)) mean and covariance"
   ]
  },
  {
   "cell_type": "code",
   "execution_count": null,
   "metadata": {},
   "outputs": [],
   "source": []
  },
  {
   "cell_type": "markdown",
   "metadata": {},
   "source": [
    "# Task 4 (everyone)\n",
    "\n",
    "Run local RX, i.e., $\\text{RX}(x_{(i,j)};(\\mu_l,\\Sigma_l))=(x_{(i,j)}-\\mu_l)^t \\Sigma^{-1}_l (x_{(i,j)}-\\mu_l)$, where $l$ denotes local. Prompt the user for the size of the local window."
   ]
  },
  {
   "cell_type": "code",
   "execution_count": null,
   "metadata": {},
   "outputs": [],
   "source": []
  },
  {
   "cell_type": "markdown",
   "metadata": {},
   "source": [
    "# Task 5 (graduate students)\n",
    "\n",
    "Go to\n",
    "\n",
    "http://www.ehu.eus/ccwintco/index.php/Hyperspectral_Remote_Sensing_Scenes\n",
    "\n",
    "or\n",
    "\n",
    "http://lesun.weebly.com/hyperspectral-data-set.html\n",
    "\n",
    "Prompt the user for which data set to load and process (Tasks 1-4), i.e., Indian Pines or {Salinas, Pavia, Washington DC MALL, ...}"
   ]
  },
  {
   "cell_type": "markdown",
   "metadata": {},
   "source": [
    "# Task 6 (graduate students)\n",
    "\n",
    "W.r.t. Tasks 1-4, ask the user if they want to remove the water absorption bands (and do it if so!!!)"
   ]
  },
  {
   "cell_type": "markdown",
   "metadata": {},
   "source": [
    "# Task 7 (graduate students)\n",
    "\n",
    "W.r.t. Tasks 3 and 4, prompt the user for the size of a buffer window. For example, say we picked a 5 by 5 size local window with a buffer of size 1. The locations we would sample from would look like:\n",
    "\n",
    "\\begin{bmatrix}\n",
    "   1 & 1 & 1 & 1 & 1 \\\\\n",
    "   1 & 0 & 0 & 0 & 1 \\\\\n",
    "   1 & 0 & 2 & 0 & 1 \\\\\n",
    "   1 & 0 & 0 & 0 & 1 \\\\\n",
    "   1 & 1 & 1 & 1 & 1 \\\\   \n",
    "\\end{bmatrix}\n",
    "\n",
    "where 2) is our pixel location, 0) are buffer pixels we ignore, and the mean and covariance are computed with respect to 1) locations."
   ]
  },
  {
   "cell_type": "markdown",
   "metadata": {},
   "source": [
    "# Task 8 (extra credit)\n",
    "\n",
    "Produce (and display) an \"RGB\" image for the Indian Pines data set\n",
    "\n",
    "Do it w.r.t. \n",
    "\n",
    "1) the mean spectral band for red, green, and blue\n",
    "\n",
    "2) the full red, green, and blue distributions"
   ]
  },
  {
   "cell_type": "markdown",
   "metadata": {},
   "source": [
    "# Task 9 (extra credit)\n",
    "\n",
    "Find \"a few good bands\" (e.g., 2 or 5 or 10 vs. 220) to detect \"stone-steel-tower\" in Indian Pines, then apply ACE"
   ]
  }
 ],
 "metadata": {
  "kernelspec": {
   "display_name": "Python 3",
   "language": "python",
   "name": "python3"
  },
  "language_info": {
   "codemirror_mode": {
    "name": "ipython",
    "version": 3
   },
   "file_extension": ".py",
   "mimetype": "text/x-python",
   "name": "python",
   "nbconvert_exporter": "python",
   "pygments_lexer": "ipython3",
   "version": "3.6.5"
  }
 },
 "nbformat": 4,
 "nbformat_minor": 2
}
